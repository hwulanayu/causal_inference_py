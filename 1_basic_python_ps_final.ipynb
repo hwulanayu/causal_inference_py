{
 "cells": [
  {
   "cell_type": "markdown",
   "metadata": {},
   "source": [
    "**Coursebook: Python for Data Analysts & Practical Statistics**\n",
    "\n",
    "- Part of DSS: Causal Inference for Business Decisions: Understanding Cause and Effect\n",
    "- Course Length: 12 Hours\n",
    "- Last Updated: November 2024\n",
    "\n",
    "---\n",
    "\n",
    "\n",
    "- Developed by [Algoritma](https://algorit.ma/)'s product division and instructors team"
   ]
  },
  {
   "cell_type": "markdown",
   "metadata": {},
   "source": [
    "## Background\n",
    "\n",
    "DSS ini dirancang untuk semua orang yang tertarik untuk mempelajari cara mengetahui hubungan sebab-akibat dalam data yang berkaitan dengan bisnis. Dengan berfokus pada konsep-konsep utama *causal inference*, DSS ini menjelaskan kepada para peserta bagaimana membedakan antara korelasi dan sebab-akibat, menerapkan model statistik, dan membuat keputusan yang lebih tepat berdasarkan analisis data."
   ]
  },
  {
   "cell_type": "markdown",
   "metadata": {},
   "source": [
    "# Training Objectives\n",
    "\n",
    "**Python Programming Basics**\n",
    "\n",
    "- Introduction to Python for data science\n",
    "- Working with Visual Studio Code IDE\n",
    "- Descriptive statistics using Pandas\n",
    "\n",
    "\n",
    "**Practical Statistics**\n",
    "\n",
    "- Measure of central tendency\n",
    "- Measure of spreads\n",
    "- Correlation\n",
    "- Normal distribution\n",
    "- Probability density function\n",
    "- Probability mass function\n",
    "- Hypothesis testing\n",
    "    - T-test\n",
    "    - ANOVA (F-Test)\n"
   ]
  },
  {
   "cell_type": "markdown",
   "metadata": {},
   "source": [
    "# Pemrograman Dasar Python"
   ]
  },
  {
   "cell_type": "markdown",
   "metadata": {},
   "source": [
    "## Mempersiapkan Environment Anaconda\n",
    "\n",
    "**Membuat virtual environment baru:**\n",
    "\n",
    "1. Buka Anaconda Prompt\n",
    "\n",
    "2. Buat virtual environment baru dengan:\n",
    "    ```\n",
    "    conda create -n <ENV_NAME> python=<PYTHON_VERSION>\n",
    "    ```\n",
    "    Contoh: `conda create -n dss_causality python=3.8`\n",
    "\n",
    "3. Aktifkan virtual environment baru dengan:\n",
    "    ```\n",
    "    conda activate <ENV_NAME>\n",
    "    ```\n",
    "    For example: `conda activate dss_causality`\n",
    "\n",
    "5. Install library dan package yang dibutuhkan dengan command.\n",
    "    ```\n",
    "    pip install -r requirements.txt\n",
    "    ```"
   ]
  },
  {
   "cell_type": "markdown",
   "metadata": {},
   "source": [
    "## Bekerja dengan Jupyter Notebook"
   ]
  },
  {
   "cell_type": "markdown",
   "metadata": {},
   "source": [
    "### Markdown Cell dan Code Cell\n",
    "\n",
    "Terdapat dua tipe cell dalam notebook:\n",
    "\n",
    "#### Markdown Cell\n",
    "\n",
    "**Markdown**: untuk menuliskan narasi\n",
    "\n",
    "Berikut ini adalah cell markdown. Terdapat beberapa hal yang dapat dilakukan, seperti membuat beberapa hal berikut ini: \n",
    "\n",
    "1. **Heading**\n",
    "\n",
    "   Pada bagian ini dapat ditambahkan heading dengan menambahkan hashtag `#`.\n",
    "\n",
    "   - `#` -> Heading 1\n",
    "   - `##` -> Heading 2\n",
    "   - `###` -> Heading 3\n",
    "\n",
    "2. **Emphasis**\n",
    "\n",
    "   Ketika ingin mengatur jenis tulisan dengan memberikan karakter yang lebih tegas kita bisa memanfaatkan `*`.\n",
    "\n",
    "   - *kata* -> untuk mengatur tulisan menjadi Italic\n",
    "   - **kata** -> untuk mengatur tulisan menjadi Bold\n",
    "   - ***kata*** -> untuk mengatur tulisan menjadi Italic & Bold\n",
    "    \n",
    "3. **Bullets**\n",
    "\n",
    "   Untuk membuat beberapa point, terdapat beberapa metode yang bisa digunakan.\n",
    "    \n",
    "   - Untuk membuat point dalam bentuk angka, bisa menggunakan angka 1.\n",
    "   - Untuk membuat point dalam bentuk bullets, bisa menggunakan - atau *."
   ]
  },
  {
   "cell_type": "markdown",
   "metadata": {},
   "source": [
    "#### Code Cell\n",
    "\n",
    "**Code**: untuk menuliskan script code\n",
    "\n",
    "💡 symbol `#` pada cell code berarti adalah sebuah `comment`. `Comment` pada cell code **tidak dijalankan**"
   ]
  },
  {
   "cell_type": "markdown",
   "metadata": {},
   "source": [
    "**Contoh Code Cell**"
   ]
  },
  {
   "cell_type": "code",
   "execution_count": 56,
   "metadata": {},
   "outputs": [
    {
     "name": "stdout",
     "output_type": "stream",
     "text": [
      "Hello 2024!!\n"
     ]
    }
   ],
   "source": [
    "# ini adalah cell code\n",
    "print(\"Hello 2024!!\")"
   ]
  },
  {
   "cell_type": "code",
   "execution_count": 57,
   "metadata": {},
   "outputs": [
    {
     "data": {
      "text/plain": [
       "2"
      ]
     },
     "execution_count": 57,
     "metadata": {},
     "output_type": "execute_result"
    }
   ],
   "source": [
    "1 + 1"
   ]
  },
  {
   "cell_type": "markdown",
   "metadata": {},
   "source": [
    "### Command Mode dan Edit Mode\n",
    "\n",
    "**1️⃣ Command Mode**\n",
    "\n",
    "- B: Menambahkan cell baru di Bawah (Below)\n",
    "- A: Menambahkan cell baru di Atas (Above)\n",
    "- DD: Delete cell\n",
    "- C: Copy cell\n",
    "- V: Paste cell\n",
    "- Y: Mengubah ke `code` cell\n",
    "- M: Mengubah ke `markdown` cell\n",
    "- Enter/Double Click: Mengubah command mode menjadi edit mode\n",
    "\n",
    "**2️⃣ Edit Mode**\n",
    "- Ctrl + Enter: eksekusi satu cell\n",
    "- Shift + Enter: eksekusi satu cell kemudian pindah pada cell selanjutnya\n",
    "- Esc: Mengubah edit mode menjadi command mode"
   ]
  },
  {
   "cell_type": "markdown",
   "metadata": {},
   "source": [
    "## Variabel & *Keywords*\n",
    "\n",
    "Mari kita telaah konsep paling fundamental dalam bahasa pemrograman: variabel.\n",
    "\n",
    "Variabel adalah wadah untuk menyimpan sebuah nilai. Simpelnya, variabel adalah nama yang mengacu pada sebuah nilai. Dimana ketika nilai ini ingin kita gunakan, kita dapat memanggilnya dengan nama variabel yang telah kita buat."
   ]
  },
  {
   "cell_type": "code",
   "execution_count": 58,
   "metadata": {},
   "outputs": [
    {
     "name": "stdout",
     "output_type": "stream",
     "text": [
      "DSS: Causal Inference for Business Decisions\n"
     ]
    }
   ],
   "source": [
    "# variabel = nilai\n",
    "dss_name = \"DSS: Causal Inference for Business Decisions\"\n",
    "print(dss_name)"
   ]
  },
  {
   "cell_type": "markdown",
   "metadata": {},
   "source": [
    "Sebagai catatan, seperti bahasa pemrograman yang lainnya, Python bersifat **case-sensitive**, sehingga `dss_name` dan `DSS_Name` dimaknai berbeda sehingga akan dianggap variabel yang berbeda pula."
   ]
  },
  {
   "cell_type": "code",
   "execution_count": 59,
   "metadata": {},
   "outputs": [
    {
     "data": {
      "text/plain": [
       "True"
      ]
     },
     "execution_count": 59,
     "metadata": {},
     "output_type": "execute_result"
    }
   ],
   "source": [
    "## code here\n",
    "'dss_name' == 'dss_name'"
   ]
  },
  {
   "cell_type": "code",
   "execution_count": 60,
   "metadata": {},
   "outputs": [],
   "source": [
    "# True = \"variable error\""
   ]
  },
  {
   "cell_type": "markdown",
   "metadata": {},
   "source": [
    "Kode di atas mengembalikan `True` sebagai output. Cobalah untuk membuat variabel baru dan gunakan `True` sebagai namanya. kemudian lihat apa yang akan terjadi.\n",
    "\n",
    "> SyntaxError: can't assign to keyword"
   ]
  },
  {
   "cell_type": "markdown",
   "metadata": {},
   "source": [
    "___\n",
    "\n",
    "**Keywords** adalah kata kunci yang sudah ditetapkan oleh Python sebagai nama yang tidak bisa dipakai baik untuk penamaan fungsi, variabel, dan lainnya. Keyword ditulis dalam lower-case (huruf kecil semua) kecuali keyword `True`, `False`, dan `None`. Sejauh ini (Python 3.10) keyword yang ada pada Python adalah sebagai berikut:"
   ]
  },
  {
   "cell_type": "code",
   "execution_count": 61,
   "metadata": {},
   "outputs": [
    {
     "data": {
      "text/plain": [
       "['False',\n",
       " 'None',\n",
       " 'True',\n",
       " 'and',\n",
       " 'as',\n",
       " 'assert',\n",
       " 'async',\n",
       " 'await',\n",
       " 'break',\n",
       " 'class',\n",
       " 'continue',\n",
       " 'def',\n",
       " 'del',\n",
       " 'elif',\n",
       " 'else',\n",
       " 'except',\n",
       " 'finally',\n",
       " 'for',\n",
       " 'from',\n",
       " 'global',\n",
       " 'if',\n",
       " 'import',\n",
       " 'in',\n",
       " 'is',\n",
       " 'lambda',\n",
       " 'nonlocal',\n",
       " 'not',\n",
       " 'or',\n",
       " 'pass',\n",
       " 'raise',\n",
       " 'return',\n",
       " 'try',\n",
       " 'while',\n",
       " 'with',\n",
       " 'yield']"
      ]
     },
     "execution_count": 61,
     "metadata": {},
     "output_type": "execute_result"
    }
   ],
   "source": [
    "# Cek daftar keyword\n",
    "import keyword\n",
    "keyword.kwlist"
   ]
  },
  {
   "cell_type": "markdown",
   "metadata": {},
   "source": [
    "**💡 NOTES**\n",
    "\n",
    "Syarat dan ketentuan dalam memberikan nama variable pada Python:\n",
    "- Menggunakan kombinasi dari huruf kapital (A-Z), huruf nomina (a-z), angka (0-9).\n",
    "- Special character `!, $ , &, dll` tidak dapat digunakan dalam penamaan variabel.\n",
    "- **Tidak boleh** menggunakan angka di awal.\n",
    "- Bersifat **case-sensitive** sehingga penamaan variable `algoritma`, `ALGORITMA`, dan `Algoritma` adalah 3 variable yang berbeda\n",
    "- **Tidak boleh** menggunakan **keyword** pada Python"
   ]
  },
  {
   "cell_type": "markdown",
   "metadata": {},
   "source": [
    "## Introduction to Pandas Library\n",
    "\n",
    "### Working with Dataframe\n",
    "\n",
    "- `pandas` adalah library yang powerful sebagai tools analisis data dan struktur pada Python. \n",
    "\n",
    "- `pandas` mampu mengolah data menjadi mudah karena mempunyai objek bernama **DataFrame**. \n",
    "\n",
    "- `pandas` memiliki function yang mampu mengolah dataframe dengan menerapkan berbagai operasi dan teknik seperti join, agregasi, grouping, dan lain sebagainya\n",
    "\n",
    "> Lebih lengkapnya silahkan kunjungi [official documentation](https://pandas.pydata.org/)\n",
    "\n",
    "Untuk menggunakan `pandas`, kita perlu import terlebih dahulu library dengan cara berikut ini:"
   ]
  },
  {
   "cell_type": "code",
   "execution_count": 62,
   "metadata": {},
   "outputs": [],
   "source": [
    "import pandas as pd\n",
    "# print(pd.__version__)"
   ]
  },
  {
   "cell_type": "markdown",
   "metadata": {},
   "source": [
    "### Read Data\n",
    "\n",
    "Untuk membaca data atau file dengan format `.csv` dapat menggunakan method `.read_csv()`.\n",
    "Bacalah data `CC.csv` yang berada dalam folder `data_input`\n",
    "\n",
    "Sintaks:\n",
    "```python\n",
    "pandas.read_csv(\"path/data\")\n",
    "```"
   ]
  },
  {
   "cell_type": "code",
   "execution_count": 63,
   "metadata": {},
   "outputs": [
    {
     "data": {
      "text/html": [
       "<div>\n",
       "<style scoped>\n",
       "    .dataframe tbody tr th:only-of-type {\n",
       "        vertical-align: middle;\n",
       "    }\n",
       "\n",
       "    .dataframe tbody tr th {\n",
       "        vertical-align: top;\n",
       "    }\n",
       "\n",
       "    .dataframe thead th {\n",
       "        text-align: right;\n",
       "    }\n",
       "</style>\n",
       "<table border=\"1\" class=\"dataframe\">\n",
       "  <thead>\n",
       "    <tr style=\"text-align: right;\">\n",
       "      <th></th>\n",
       "      <th>Income</th>\n",
       "      <th>Limit</th>\n",
       "      <th>Rating</th>\n",
       "      <th>Cards</th>\n",
       "      <th>Age</th>\n",
       "      <th>Education</th>\n",
       "      <th>Gender</th>\n",
       "      <th>Student</th>\n",
       "      <th>Married</th>\n",
       "      <th>Ethnicity</th>\n",
       "      <th>Balance</th>\n",
       "    </tr>\n",
       "  </thead>\n",
       "  <tbody>\n",
       "    <tr>\n",
       "      <th>0</th>\n",
       "      <td>14.891</td>\n",
       "      <td>3606</td>\n",
       "      <td>283</td>\n",
       "      <td>2</td>\n",
       "      <td>34</td>\n",
       "      <td>11</td>\n",
       "      <td>Male</td>\n",
       "      <td>No</td>\n",
       "      <td>Yes</td>\n",
       "      <td>Caucasian</td>\n",
       "      <td>333</td>\n",
       "    </tr>\n",
       "    <tr>\n",
       "      <th>1</th>\n",
       "      <td>106.025</td>\n",
       "      <td>6645</td>\n",
       "      <td>483</td>\n",
       "      <td>3</td>\n",
       "      <td>82</td>\n",
       "      <td>15</td>\n",
       "      <td>Female</td>\n",
       "      <td>Yes</td>\n",
       "      <td>Yes</td>\n",
       "      <td>Asian</td>\n",
       "      <td>903</td>\n",
       "    </tr>\n",
       "    <tr>\n",
       "      <th>2</th>\n",
       "      <td>104.593</td>\n",
       "      <td>7075</td>\n",
       "      <td>514</td>\n",
       "      <td>4</td>\n",
       "      <td>71</td>\n",
       "      <td>11</td>\n",
       "      <td>Male</td>\n",
       "      <td>No</td>\n",
       "      <td>No</td>\n",
       "      <td>Asian</td>\n",
       "      <td>580</td>\n",
       "    </tr>\n",
       "    <tr>\n",
       "      <th>3</th>\n",
       "      <td>148.924</td>\n",
       "      <td>9504</td>\n",
       "      <td>681</td>\n",
       "      <td>3</td>\n",
       "      <td>36</td>\n",
       "      <td>11</td>\n",
       "      <td>Female</td>\n",
       "      <td>No</td>\n",
       "      <td>No</td>\n",
       "      <td>Asian</td>\n",
       "      <td>964</td>\n",
       "    </tr>\n",
       "    <tr>\n",
       "      <th>4</th>\n",
       "      <td>55.882</td>\n",
       "      <td>4897</td>\n",
       "      <td>357</td>\n",
       "      <td>2</td>\n",
       "      <td>68</td>\n",
       "      <td>16</td>\n",
       "      <td>Male</td>\n",
       "      <td>No</td>\n",
       "      <td>Yes</td>\n",
       "      <td>Caucasian</td>\n",
       "      <td>331</td>\n",
       "    </tr>\n",
       "  </tbody>\n",
       "</table>\n",
       "</div>"
      ],
      "text/plain": [
       "    Income  Limit  Rating  Cards  Age  Education  Gender Student Married  \\\n",
       "0   14.891   3606     283      2   34         11    Male      No     Yes   \n",
       "1  106.025   6645     483      3   82         15  Female     Yes     Yes   \n",
       "2  104.593   7075     514      4   71         11    Male      No      No   \n",
       "3  148.924   9504     681      3   36         11  Female      No      No   \n",
       "4   55.882   4897     357      2   68         16    Male      No     Yes   \n",
       "\n",
       "   Ethnicity  Balance  \n",
       "0  Caucasian      333  \n",
       "1      Asian      903  \n",
       "2      Asian      580  \n",
       "3      Asian      964  \n",
       "4  Caucasian      331  "
      ]
     },
     "execution_count": 63,
     "metadata": {},
     "output_type": "execute_result"
    }
   ],
   "source": [
    "cc = pd.read_csv('data_input/CC.csv')\n",
    "cc.head()"
   ]
  },
  {
   "cell_type": "markdown",
   "metadata": {},
   "source": [
    "**Deskripsi Kolom**\n",
    "\n",
    "- `Income`: Besaran gaji nasabah per tahun (dalam \\$10000)\n",
    "- `Limit` : Besaran kredit limit\n",
    "- `Rating` : Skor yang diberikan kepada individu berdasarkan kelayakan kreditnya. Semakin besar maka semakin baik\n",
    "- `Cards` : Jumlah banyaknya kartu kredit yang dimiliki oleh nasabah\n",
    "- `Age` : Usia nasabah\n",
    "- `Education` : Level/lamanya pendidikan yang ditempuh oleh nasabah\n",
    "- `Gender`: Jenis kelamin nasabah\n",
    "    - Male\n",
    "    - Female\n",
    "- `Student` : Apakah nasabah seorang pelajar atau bukan\n",
    "    - Yes $\\rightarrow$ Pelajar\n",
    "    - No $\\rightarrow$ Bukan pelajar\n",
    "- `Married`: Status pernikahan\n",
    "    - Yes $\\rightarrow$ Sudah menikah\n",
    "    - No $\\rightarrow$ Belum menikah\n",
    "- `Ethnicity`: Etnis nasabah\n",
    "    - African American\n",
    "    - Asian\n",
    "    - Caucasian\n",
    "- `Balance`: Rata-rata jumlah saldo kartu kredit"
   ]
  },
  {
   "cell_type": "markdown",
   "metadata": {},
   "source": [
    "## 3.3 Head & Tail\n",
    "\n",
    "Daripada melihat keseluruhan data, lebih baik kita \"mengintip\" sebagian baris yang dapat merepresentasikan bentuk keseluruhan data."
   ]
  },
  {
   "cell_type": "markdown",
   "metadata": {},
   "source": [
    "Metode yang dapat digunakan:\n",
    "\n",
    "- `head()`: Menampilkan beberapa baris **teratas** (default 5)\n",
    "- `tail()`: Menampilkan beberapa baris **terakhir** (default 5)"
   ]
  },
  {
   "cell_type": "code",
   "execution_count": 64,
   "metadata": {},
   "outputs": [
    {
     "data": {
      "text/html": [
       "<div>\n",
       "<style scoped>\n",
       "    .dataframe tbody tr th:only-of-type {\n",
       "        vertical-align: middle;\n",
       "    }\n",
       "\n",
       "    .dataframe tbody tr th {\n",
       "        vertical-align: top;\n",
       "    }\n",
       "\n",
       "    .dataframe thead th {\n",
       "        text-align: right;\n",
       "    }\n",
       "</style>\n",
       "<table border=\"1\" class=\"dataframe\">\n",
       "  <thead>\n",
       "    <tr style=\"text-align: right;\">\n",
       "      <th></th>\n",
       "      <th>Income</th>\n",
       "      <th>Limit</th>\n",
       "      <th>Rating</th>\n",
       "      <th>Cards</th>\n",
       "      <th>Age</th>\n",
       "      <th>Education</th>\n",
       "      <th>Gender</th>\n",
       "      <th>Student</th>\n",
       "      <th>Married</th>\n",
       "      <th>Ethnicity</th>\n",
       "      <th>Balance</th>\n",
       "    </tr>\n",
       "  </thead>\n",
       "  <tbody>\n",
       "    <tr>\n",
       "      <th>0</th>\n",
       "      <td>14.891</td>\n",
       "      <td>3606</td>\n",
       "      <td>283</td>\n",
       "      <td>2</td>\n",
       "      <td>34</td>\n",
       "      <td>11</td>\n",
       "      <td>Male</td>\n",
       "      <td>No</td>\n",
       "      <td>Yes</td>\n",
       "      <td>Caucasian</td>\n",
       "      <td>333</td>\n",
       "    </tr>\n",
       "    <tr>\n",
       "      <th>1</th>\n",
       "      <td>106.025</td>\n",
       "      <td>6645</td>\n",
       "      <td>483</td>\n",
       "      <td>3</td>\n",
       "      <td>82</td>\n",
       "      <td>15</td>\n",
       "      <td>Female</td>\n",
       "      <td>Yes</td>\n",
       "      <td>Yes</td>\n",
       "      <td>Asian</td>\n",
       "      <td>903</td>\n",
       "    </tr>\n",
       "    <tr>\n",
       "      <th>2</th>\n",
       "      <td>104.593</td>\n",
       "      <td>7075</td>\n",
       "      <td>514</td>\n",
       "      <td>4</td>\n",
       "      <td>71</td>\n",
       "      <td>11</td>\n",
       "      <td>Male</td>\n",
       "      <td>No</td>\n",
       "      <td>No</td>\n",
       "      <td>Asian</td>\n",
       "      <td>580</td>\n",
       "    </tr>\n",
       "    <tr>\n",
       "      <th>3</th>\n",
       "      <td>148.924</td>\n",
       "      <td>9504</td>\n",
       "      <td>681</td>\n",
       "      <td>3</td>\n",
       "      <td>36</td>\n",
       "      <td>11</td>\n",
       "      <td>Female</td>\n",
       "      <td>No</td>\n",
       "      <td>No</td>\n",
       "      <td>Asian</td>\n",
       "      <td>964</td>\n",
       "    </tr>\n",
       "    <tr>\n",
       "      <th>4</th>\n",
       "      <td>55.882</td>\n",
       "      <td>4897</td>\n",
       "      <td>357</td>\n",
       "      <td>2</td>\n",
       "      <td>68</td>\n",
       "      <td>16</td>\n",
       "      <td>Male</td>\n",
       "      <td>No</td>\n",
       "      <td>Yes</td>\n",
       "      <td>Caucasian</td>\n",
       "      <td>331</td>\n",
       "    </tr>\n",
       "  </tbody>\n",
       "</table>\n",
       "</div>"
      ],
      "text/plain": [
       "    Income  Limit  Rating  Cards  Age  Education  Gender Student Married  \\\n",
       "0   14.891   3606     283      2   34         11    Male      No     Yes   \n",
       "1  106.025   6645     483      3   82         15  Female     Yes     Yes   \n",
       "2  104.593   7075     514      4   71         11    Male      No      No   \n",
       "3  148.924   9504     681      3   36         11  Female      No      No   \n",
       "4   55.882   4897     357      2   68         16    Male      No     Yes   \n",
       "\n",
       "   Ethnicity  Balance  \n",
       "0  Caucasian      333  \n",
       "1      Asian      903  \n",
       "2      Asian      580  \n",
       "3      Asian      964  \n",
       "4  Caucasian      331  "
      ]
     },
     "execution_count": 64,
     "metadata": {},
     "output_type": "execute_result"
    }
   ],
   "source": [
    "# code here\n",
    "cc.head()"
   ]
  },
  {
   "cell_type": "markdown",
   "metadata": {},
   "source": [
    "## Tipe Data `pandas`\n",
    "\n",
    "- Dataframe merupakan tabel/data tabular dua dimensi yaitu baris dan kolom.\n",
    "- Dataframe terdiri dari beberapa **Series** (kolom).\n",
    "- Dalam satu series harus memiliki tipe data yang sama.\n",
    "- `pandas` akan menentukan tipe data dari masing-masing Series, tapi hasil dari pandas tidak selalu benar."
   ]
  },
  {
   "cell_type": "markdown",
   "metadata": {},
   "source": [
    "Berikut rangkuman tipe data `pandas`:\n",
    "\n",
    "**Note: Fokus pada kolom `Pandas dtype` dan `Usage`**\n",
    "\n",
    "| Pandas dtype  | Usage                                        |\n",
    "|---------------|----------------------------------------------|\n",
    "| object        | Text or mixed numeric and non-numeric values |\n",
    "| int64         | Integer numbers                              |\n",
    "| float64       | Floating point numbers                       |\n",
    "| bool          | True/False values                            |\n",
    "| datetime64[ns]| Date and time values                         |\n",
    "| timedelta[ns] |  Differences between two datetimes           |\n",
    "| category      | Finite list of text values                   |\n",
    "\n",
    "Referensi: [Overview of Pandas Data Types](https://pbpython.com/pandas_dtypes.html)"
   ]
  },
  {
   "cell_type": "markdown",
   "metadata": {},
   "source": [
    "**Tipe data Pandas yang umum digunakan:**\n",
    "\n",
    "- `int64`: Integer (bilangan bulat, tanpa koma)\n",
    "- `float64`: Bilangan desimal (berkoma)\n",
    "- `object`: Text (string)\n",
    "- `category`: Kategorikal \n",
    "- `datetime64[ns]`: Data waktu\n",
    "\n",
    "Karakteristik tipe data `category` :\n",
    "- Dapat dikelompokkan menjadi beberapa kelompok (category)\n",
    "- Nilainya berulang"
   ]
  },
  {
   "cell_type": "markdown",
   "metadata": {},
   "source": [
    "Saat kita membaca data dengan `pd.read_csv()`, `pandas` akan mencoba menentukan tipe data dari setiap kolom. Lakukan investigasi awal untuk melihat struktur data terhadap object DataFrame dengan menggunakan method `.info()`."
   ]
  },
  {
   "cell_type": "code",
   "execution_count": 65,
   "metadata": {},
   "outputs": [
    {
     "name": "stdout",
     "output_type": "stream",
     "text": [
      "<class 'pandas.core.frame.DataFrame'>\n",
      "RangeIndex: 400 entries, 0 to 399\n",
      "Data columns (total 11 columns):\n",
      " #   Column     Non-Null Count  Dtype  \n",
      "---  ------     --------------  -----  \n",
      " 0   Income     400 non-null    float64\n",
      " 1   Limit      400 non-null    int64  \n",
      " 2   Rating     400 non-null    int64  \n",
      " 3   Cards      400 non-null    int64  \n",
      " 4   Age        400 non-null    int64  \n",
      " 5   Education  400 non-null    int64  \n",
      " 6   Gender     400 non-null    object \n",
      " 7   Student    400 non-null    object \n",
      " 8   Married    400 non-null    object \n",
      " 9   Ethnicity  400 non-null    object \n",
      " 10  Balance    400 non-null    int64  \n",
      "dtypes: float64(1), int64(6), object(4)\n",
      "memory usage: 34.5+ KB\n"
     ]
    }
   ],
   "source": [
    "# Cek tipe data\n",
    "cc.info()"
   ]
  },
  {
   "cell_type": "markdown",
   "metadata": {},
   "source": [
    "**💡 NOTES**\n",
    "\n",
    "Dengan menggunakan method `.info()`, kita dapat memeriksa **informasi** lengkap dari DataFrame kita:\n",
    "\n",
    "- Dimensi data: jumlah baris dan kolom (`.shape`)\n",
    "- Nama kolom (`.columns`)\n",
    "- Tipe data setiap kolom (`.dtypes`)\n",
    "- Penggunaan memori"
   ]
  },
  {
   "cell_type": "markdown",
   "metadata": {},
   "source": [
    "*Kolom manakah yang memiliki format tipe data yang belum sesuai?*\n",
    "\n",
    "> Jawaban:\n",
    "- `Gender`, `Student`, `Married`, `Ethnicity`"
   ]
  },
  {
   "cell_type": "markdown",
   "metadata": {},
   "source": [
    "## Convert Data Types"
   ]
  },
  {
   "cell_type": "markdown",
   "metadata": {},
   "source": [
    "### Convert Category"
   ]
  },
  {
   "cell_type": "markdown",
   "metadata": {},
   "source": [
    "Untuk mengubah tipe data pada `pandas`, dapat menggunakan method `astype()`.\n",
    "\n",
    "**Sintaks**\n",
    "```python\n",
    "df['column_name'] = df['column_name'].astype('new_data_types')\n",
    "```\n",
    "\n",
    "\n",
    "**✏️ NOTES**\n",
    "\n",
    "Jika ingin merubah tipe data beberapa kolom ke 1 tipe data yang sama, dapat menggunakan list seperti berikut\n",
    "\n",
    "```python\n",
    "columns = ['kolom1', 'kolom2']\n",
    "df[columns] = df[columns].astype('datatype')\n",
    "```"
   ]
  },
  {
   "cell_type": "code",
   "execution_count": 66,
   "metadata": {},
   "outputs": [],
   "source": [
    "# code here\n",
    "# cat_column = ['nilai1', 'nilai2']\n",
    "cat_column = ['Gender', 'Student', 'Married', 'Ethnicity']\n",
    "\n",
    "cc[cat_column] = cc[cat_column].astype('category')"
   ]
  },
  {
   "cell_type": "code",
   "execution_count": 67,
   "metadata": {},
   "outputs": [
    {
     "name": "stdout",
     "output_type": "stream",
     "text": [
      "<class 'pandas.core.frame.DataFrame'>\n",
      "RangeIndex: 400 entries, 0 to 399\n",
      "Data columns (total 11 columns):\n",
      " #   Column     Non-Null Count  Dtype   \n",
      "---  ------     --------------  -----   \n",
      " 0   Income     400 non-null    float64 \n",
      " 1   Limit      400 non-null    int64   \n",
      " 2   Rating     400 non-null    int64   \n",
      " 3   Cards      400 non-null    int64   \n",
      " 4   Age        400 non-null    int64   \n",
      " 5   Education  400 non-null    int64   \n",
      " 6   Gender     400 non-null    category\n",
      " 7   Student    400 non-null    category\n",
      " 8   Married    400 non-null    category\n",
      " 9   Ethnicity  400 non-null    category\n",
      " 10  Balance    400 non-null    int64   \n",
      "dtypes: category(4), float64(1), int64(6)\n",
      "memory usage: 24.1 KB\n"
     ]
    }
   ],
   "source": [
    "cc.info()"
   ]
  },
  {
   "cell_type": "markdown",
   "metadata": {},
   "source": [
    "# Practical Statistics"
   ]
  },
  {
   "cell_type": "markdown",
   "metadata": {},
   "source": [
    "## Descriptive Statistics\n",
    "\n",
    "Descriptive Statistics membantu kita **menggambarkan karakteristik** dari data, sehingga berguna dalam proses **Exploratory Data Analysis (EDA)**. Terdapat 3 hal pada descriptive statistics:\n",
    "\n",
    "- Ukuran pemusatan data (Measure of Central Tendency)\n",
    "- Ukuran penyebaran data (Measure of Spread)\n",
    "- Hubungan antar data (Variable Relationship)"
   ]
  },
  {
   "cell_type": "markdown",
   "metadata": {},
   "source": [
    "### Measure of Central Tendency\n",
    "\n",
    "Ukuran pemusatan data adalah **suatu nilai yang cukup untuk mewakili seluruh nilai pada data**.\n"
   ]
  },
  {
   "cell_type": "markdown",
   "metadata": {},
   "source": [
    "\n",
    "- **Mean (Rata-rata)** \n",
    "\n",
    "    - Mean (rata-rata) adalah jumlah semua nilai data dibagi dengan banyaknya data.\n",
    "    - **Kegunaan:** Mean sering digunakan untuk mewakili keseluruhan data, terutama ketika data terdistribusi secara normal (tidak ada nilai ekstrem yang terlalu menonjol).\n",
    "\n",
    "- **Median**\n",
    "\n",
    "    - Median adalah nilai tengah dari sekumpulan data yang telah diurutkan dari yang terkecil hingga terbesar.\n",
    "    - **Kegunaan:** Median lebih baik digunakan ketika ada nilai ekstrem dalam data, karena median tidak terlalu dipengaruhi oleh nilai-nilai yang sangat besar atau sangat kecil.\n",
    "\n",
    "- **Modus**\n",
    "    - Modus adalah nilai yang paling sering muncul dalam suatu data.\n",
    "    - **Kegunaan:** Modus berguna untuk melihat nilai yang paling umum atau populer dalam suatu data, digunakan untuk data **kategorikal**."
   ]
  },
  {
   "cell_type": "markdown",
   "metadata": {},
   "source": [
    "Kita dapat memanfaatkan `describe()` untuk melihat nilai-nilai dari Central Tendency. Method `describe()` menampilkan 8 ringkasan statistika deskriptif. Secara default menampilkan ringkasan untuk kolom numerik."
   ]
  },
  {
   "cell_type": "code",
   "execution_count": 95,
   "metadata": {},
   "outputs": [
    {
     "data": {
      "text/html": [
       "<div>\n",
       "<style scoped>\n",
       "    .dataframe tbody tr th:only-of-type {\n",
       "        vertical-align: middle;\n",
       "    }\n",
       "\n",
       "    .dataframe tbody tr th {\n",
       "        vertical-align: top;\n",
       "    }\n",
       "\n",
       "    .dataframe thead th {\n",
       "        text-align: right;\n",
       "    }\n",
       "</style>\n",
       "<table border=\"1\" class=\"dataframe\">\n",
       "  <thead>\n",
       "    <tr style=\"text-align: right;\">\n",
       "      <th></th>\n",
       "      <th>Income</th>\n",
       "      <th>Limit</th>\n",
       "      <th>Rating</th>\n",
       "      <th>Cards</th>\n",
       "      <th>Age</th>\n",
       "      <th>Education</th>\n",
       "      <th>Balance</th>\n",
       "    </tr>\n",
       "  </thead>\n",
       "  <tbody>\n",
       "    <tr>\n",
       "      <th>count</th>\n",
       "      <td>400.000000</td>\n",
       "      <td>400.000000</td>\n",
       "      <td>400.000000</td>\n",
       "      <td>400.000000</td>\n",
       "      <td>400.000000</td>\n",
       "      <td>400.000000</td>\n",
       "      <td>400.000000</td>\n",
       "    </tr>\n",
       "    <tr>\n",
       "      <th>mean</th>\n",
       "      <td>45.218885</td>\n",
       "      <td>4735.600000</td>\n",
       "      <td>354.940000</td>\n",
       "      <td>2.957500</td>\n",
       "      <td>55.667500</td>\n",
       "      <td>13.450000</td>\n",
       "      <td>520.015000</td>\n",
       "    </tr>\n",
       "    <tr>\n",
       "      <th>std</th>\n",
       "      <td>35.244273</td>\n",
       "      <td>2308.198848</td>\n",
       "      <td>154.724143</td>\n",
       "      <td>1.371275</td>\n",
       "      <td>17.249807</td>\n",
       "      <td>3.125207</td>\n",
       "      <td>459.758877</td>\n",
       "    </tr>\n",
       "    <tr>\n",
       "      <th>min</th>\n",
       "      <td>10.354000</td>\n",
       "      <td>855.000000</td>\n",
       "      <td>93.000000</td>\n",
       "      <td>1.000000</td>\n",
       "      <td>23.000000</td>\n",
       "      <td>5.000000</td>\n",
       "      <td>0.000000</td>\n",
       "    </tr>\n",
       "    <tr>\n",
       "      <th>25%</th>\n",
       "      <td>21.007250</td>\n",
       "      <td>3088.000000</td>\n",
       "      <td>247.250000</td>\n",
       "      <td>2.000000</td>\n",
       "      <td>41.750000</td>\n",
       "      <td>11.000000</td>\n",
       "      <td>68.750000</td>\n",
       "    </tr>\n",
       "    <tr>\n",
       "      <th>50%</th>\n",
       "      <td>33.115500</td>\n",
       "      <td>4622.500000</td>\n",
       "      <td>344.000000</td>\n",
       "      <td>3.000000</td>\n",
       "      <td>56.000000</td>\n",
       "      <td>14.000000</td>\n",
       "      <td>459.500000</td>\n",
       "    </tr>\n",
       "    <tr>\n",
       "      <th>75%</th>\n",
       "      <td>57.470750</td>\n",
       "      <td>5872.750000</td>\n",
       "      <td>437.250000</td>\n",
       "      <td>4.000000</td>\n",
       "      <td>70.000000</td>\n",
       "      <td>16.000000</td>\n",
       "      <td>863.000000</td>\n",
       "    </tr>\n",
       "    <tr>\n",
       "      <th>max</th>\n",
       "      <td>186.634000</td>\n",
       "      <td>13913.000000</td>\n",
       "      <td>982.000000</td>\n",
       "      <td>9.000000</td>\n",
       "      <td>98.000000</td>\n",
       "      <td>20.000000</td>\n",
       "      <td>1999.000000</td>\n",
       "    </tr>\n",
       "  </tbody>\n",
       "</table>\n",
       "</div>"
      ],
      "text/plain": [
       "           Income         Limit      Rating       Cards         Age  \\\n",
       "count  400.000000    400.000000  400.000000  400.000000  400.000000   \n",
       "mean    45.218885   4735.600000  354.940000    2.957500   55.667500   \n",
       "std     35.244273   2308.198848  154.724143    1.371275   17.249807   \n",
       "min     10.354000    855.000000   93.000000    1.000000   23.000000   \n",
       "25%     21.007250   3088.000000  247.250000    2.000000   41.750000   \n",
       "50%     33.115500   4622.500000  344.000000    3.000000   56.000000   \n",
       "75%     57.470750   5872.750000  437.250000    4.000000   70.000000   \n",
       "max    186.634000  13913.000000  982.000000    9.000000   98.000000   \n",
       "\n",
       "        Education      Balance  \n",
       "count  400.000000   400.000000  \n",
       "mean    13.450000   520.015000  \n",
       "std      3.125207   459.758877  \n",
       "min      5.000000     0.000000  \n",
       "25%     11.000000    68.750000  \n",
       "50%     14.000000   459.500000  \n",
       "75%     16.000000   863.000000  \n",
       "max     20.000000  1999.000000  "
      ]
     },
     "execution_count": 95,
     "metadata": {},
     "output_type": "execute_result"
    }
   ],
   "source": [
    "#code here\n",
    "cc.describe()"
   ]
  },
  {
   "cell_type": "markdown",
   "metadata": {},
   "source": [
    "Ringkasan:\n",
    "\n",
    "- **Count:** Banyaknya baris pada dataframe\n",
    "- **Mean:** Rata-rata nilai\n",
    "- **Standard Deviation:** Jarak rata-rata antara data ke mean (titik pusat data)\n",
    "- **Minimum Value:** Nilai terkecil dari keseluruhan data\n",
    "- **25th Percentile (Q1)**\n",
    "- **50th Percentile (Q2/Median)**\n",
    "- **75th Percentile (Q3)**\n",
    "- **Maximum Value:** Nilai terbesar dari keseluruhan data"
   ]
  },
  {
   "cell_type": "markdown",
   "metadata": {},
   "source": [
    "**✏️ NOTES**\n",
    "\n",
    "Jika ingin melihat deskripsi dari tipe data category, dapat memasukkan parameter `include = 'category'`"
   ]
  },
  {
   "cell_type": "code",
   "execution_count": 96,
   "metadata": {},
   "outputs": [
    {
     "data": {
      "text/html": [
       "<div>\n",
       "<style scoped>\n",
       "    .dataframe tbody tr th:only-of-type {\n",
       "        vertical-align: middle;\n",
       "    }\n",
       "\n",
       "    .dataframe tbody tr th {\n",
       "        vertical-align: top;\n",
       "    }\n",
       "\n",
       "    .dataframe thead th {\n",
       "        text-align: right;\n",
       "    }\n",
       "</style>\n",
       "<table border=\"1\" class=\"dataframe\">\n",
       "  <thead>\n",
       "    <tr style=\"text-align: right;\">\n",
       "      <th></th>\n",
       "      <th>Gender</th>\n",
       "      <th>Student</th>\n",
       "      <th>Married</th>\n",
       "      <th>Ethnicity</th>\n",
       "    </tr>\n",
       "  </thead>\n",
       "  <tbody>\n",
       "    <tr>\n",
       "      <th>count</th>\n",
       "      <td>400</td>\n",
       "      <td>400</td>\n",
       "      <td>400</td>\n",
       "      <td>400</td>\n",
       "    </tr>\n",
       "    <tr>\n",
       "      <th>unique</th>\n",
       "      <td>2</td>\n",
       "      <td>2</td>\n",
       "      <td>2</td>\n",
       "      <td>3</td>\n",
       "    </tr>\n",
       "    <tr>\n",
       "      <th>top</th>\n",
       "      <td>Female</td>\n",
       "      <td>No</td>\n",
       "      <td>Yes</td>\n",
       "      <td>Caucasian</td>\n",
       "    </tr>\n",
       "    <tr>\n",
       "      <th>freq</th>\n",
       "      <td>207</td>\n",
       "      <td>360</td>\n",
       "      <td>245</td>\n",
       "      <td>199</td>\n",
       "    </tr>\n",
       "  </tbody>\n",
       "</table>\n",
       "</div>"
      ],
      "text/plain": [
       "        Gender Student Married  Ethnicity\n",
       "count      400     400     400        400\n",
       "unique       2       2       2          3\n",
       "top     Female      No     Yes  Caucasian\n",
       "freq       207     360     245        199"
      ]
     },
     "execution_count": 96,
     "metadata": {},
     "output_type": "execute_result"
    }
   ],
   "source": [
    "cc.describe(include = 'category')"
   ]
  },
  {
   "cell_type": "markdown",
   "metadata": {},
   "source": [
    "Ringkasan:\n",
    "\n",
    "- **count**: Jumlah data\n",
    "- **unique**: Nilai unik/jumlah kategori di dalam kolom tersebut\n",
    "- **top**: Modus / kategori terbanyak.\n",
    "- **freq**: Jumlah kategori modus di kolom tersebut."
   ]
  },
  {
   "cell_type": "markdown",
   "metadata": {},
   "source": [
    "> 💡 Insight: __"
   ]
  },
  {
   "cell_type": "markdown",
   "metadata": {},
   "source": [
    "### Measure of Spread\n",
    "\n",
    "Ukuran penyebaran data mewakili seberapa menyebar atau beragam data kita."
   ]
  },
  {
   "cell_type": "markdown",
   "metadata": {},
   "source": [
    "- **Variance**\n",
    "    - Variance menggambarkan seberapa beragam suatu data numerik tunggal menyebar dari pusat datanya\n",
    "    - **Keguanaan:** Menggambarkan seberapa data menyebar dari rata-ratanya (beragam). Skala variance dari 0 sampai tak hingga. Semakin besar nilainya maka artinya semakin menyebar dari pusat datanya (mean).\n",
    "    - **Cara Kerja:** Rata-rata dari kuadrat selisih antara setiap nilai data dengan rata-rata (mean) dari data tersebut.\n",
    "    - **Fungsi Python:** `.var()`\n",
    "    - **Kelemahan:** Tidak dapat diinterpretasikan karena satuannya dalam kuadrat.\n",
    "\n",
    "- **Standard Deviasi:**\n",
    "    - Standard deviation menggambarkan **seberapa jauh simpangan nilai yang dianggap umum, dihitung dari titik pusat (mean) nya.**\n",
    "    - **Kegunaan:** Dapat untuk menentukan apakah suatu nilai dikatakan menyimpang dari rata-rata namun masih dikatakan umum, atau sudah tidak umum. \n",
    "    - **Cara Kerja:** Mengakarkan nilai variance\n",
    "    - **Fungsi Python:** `.std()`\n",
    "    - **Kelebihan:** Karena dihitung dengan **mengakarkan variance**, satuannya sudah sesuai dengan data asli dan bisa diinterpretasikan.\n",
    "\n",
    "![](assets/var.PNG)"
   ]
  },
  {
   "cell_type": "markdown",
   "metadata": {},
   "source": [
    "**Contoh:**\n",
    "\n",
    "Sebuah Bank sedang dalam rencana membuka kantor cabang baru. Mereka menyeleksi daerah mana yang cocok untuk cabang baru mereka. Mereka mengumpulkan informasi harga sewa bangunan di daerah A dan B sebagai berikut: "
   ]
  },
  {
   "cell_type": "code",
   "execution_count": 75,
   "metadata": {},
   "outputs": [],
   "source": [
    "# harga dalam satuan juta\n",
    "harga_A = pd.Series([400,410,420,400,410,420,400,410,420,400,410,420,400]) \n",
    "harga_B = pd.Series([130,430,650,540,460,320,380,550,650,470,330,140,270])"
   ]
  },
  {
   "cell_type": "markdown",
   "metadata": {},
   "source": [
    "Bandingkan rata-rata harga bangunan kedua daerah:"
   ]
  },
  {
   "cell_type": "code",
   "execution_count": 76,
   "metadata": {},
   "outputs": [
    {
     "name": "stdout",
     "output_type": "stream",
     "text": [
      "409.2307692307692\n",
      "409.2307692307692\n"
     ]
    }
   ],
   "source": [
    "# code here\n",
    "print(harga_A.mean())\n",
    "print(harga_B.mean())"
   ]
  },
  {
   "cell_type": "markdown",
   "metadata": {},
   "source": [
    "Mari bandingkan dari sisi lain, yaitu tingkat keberagaman data (variance). Daerah mana yang harganya lebih bervariasi?"
   ]
  },
  {
   "cell_type": "code",
   "execution_count": 77,
   "metadata": {},
   "outputs": [
    {
     "name": "stdout",
     "output_type": "stream",
     "text": [
      "74.35897435897435\n",
      "28707.692307692312\n"
     ]
    }
   ],
   "source": [
    "# code here\n",
    "print(harga_A.var())\n",
    "print(harga_B.var())"
   ]
  },
  {
   "cell_type": "code",
   "execution_count": 78,
   "metadata": {},
   "outputs": [
    {
     "name": "stdout",
     "output_type": "stream",
     "text": [
      "8.623164985025761\n",
      "169.43344506824002\n"
     ]
    }
   ],
   "source": [
    "# standar deviasi harga_A & harga_B\n",
    "print(harga_A.std())\n",
    "print(harga_B.std())"
   ]
  },
  {
   "cell_type": "markdown",
   "metadata": {},
   "source": [
    "**Interpretasi nilai normal/wajar : mean +- sd** (karena satuan mean dan sd sama, yaitu jutaan rupiah)\n",
    "\n",
    "- Harga sewa pada daerah A umumnya jatuh pada interval 400 - 417\n",
    "- Harga sewa pada daerah B umumnya jatuh pada interval 239 - 578"
   ]
  },
  {
   "cell_type": "markdown",
   "metadata": {},
   "source": [
    "### Variable Relationship\n",
    "\n",
    "Karena pada data kita punya banyak kolom atau variabel, kita juga ingin tahu hubungan antar variabel dalam data kita.\n",
    "\n",
    "Ukuran yang digunakan untuk melihat **hubungan linear** antara dua variabel numerik.\n",
    "\n",
    "*Two variables is associated if distribution of one depends on the value of the other. We can look the association with visualization or statistic measure.*\n",
    "\n"
   ]
  },
  {
   "cell_type": "markdown",
   "metadata": {},
   "source": [
    "- **[Scatter Plot](https://www.data-to-viz.com/graph/scatter.html)**\n",
    "    - Plot yang menampilkan hubungan antara 2 variable numerik. Untuk setiap titik data, nilai variable direpresentasikan pada sumbu X, yang kedua pada sumbu Y.\n",
    "    - **Fungsi Python:** `df.plot.scatter(x = 'Kolom_Numerik1', y = 'Kolom_Numerik2')`\n",
    "\n",
    "- **Covariance**\n",
    "    - Covariance menunjukkan bagaimana variansi 2 data (variable yang berbeda) bergerak bersamaan.\n",
    "    - **Fungsi Python:** `.cov()`\n",
    "    - **Kegunaan:**\n",
    "        - Nilai covariance positif mengindikasikan pergerakan nilai yang searah / berbanding lurus.\n",
    "        - Nilai covariance negatif mengindikasikan pergerakan nilai yang berbalik arah.\n",
    "    - **Kelemahan:** Tidak memiliki batasan nilai untuk mengukur kekuatan hubungan antar dua variabel (-inf s.d inf), sehingga kita hanya bisa mengetahui apakah hubungannya positif atau negatif\n",
    "\n",
    "- **Correlation**\n",
    "    - Correlation memampatkan nilai covariance dari -inf s.d inf menjadi **-1 s.d 1** sehingga bisa diukur kekuatan hubungan antar data (variable).\n",
    "    - **Fungsi Python:** `.corr()`\n",
    "    - **Kegunaan:**\n",
    "        - -1 artinya korelasi negatif kuat\n",
    "        - 0 artinya tidak berkorelasi\n",
    "        - 1 artinya korelasi positif kuat\n",
    "        ![](assets/correlation-coef.jpg)\n",
    "\n",
    "Ilustrasi correlation:\n",
    "\n",
    "![](assets/correlation.png)\n",
    "        "
   ]
  },
  {
   "cell_type": "markdown",
   "metadata": {},
   "source": [
    "**Contoh:**\n",
    "\n",
    "Adakah korelasi antara `Income` dengan `Rating` pada data `cc` . Bagaimana hubungan dan kekuatannya?"
   ]
  },
  {
   "cell_type": "code",
   "execution_count": null,
   "metadata": {},
   "outputs": [
    {
     "data": {
      "image/png": "[encoded data removed]",
      "text/plain": [
       "<Figure size 640x480 with 1 Axes>"
      ]
     },
     "metadata": {},
     "output_type": "display_data"
    }
   ],
   "source": [
    "# Scatter plot\n",
    "cc.plot.scatter(x='Income',\n",
    "                y='Rating');"
   ]
  },
  {
   "cell_type": "code",
   "execution_count": 99,
   "metadata": {},
   "outputs": [
    {
     "data": {
      "text/html": [
       "<div>\n",
       "<style scoped>\n",
       "    .dataframe tbody tr th:only-of-type {\n",
       "        vertical-align: middle;\n",
       "    }\n",
       "\n",
       "    .dataframe tbody tr th {\n",
       "        vertical-align: top;\n",
       "    }\n",
       "\n",
       "    .dataframe thead th {\n",
       "        text-align: right;\n",
       "    }\n",
       "</style>\n",
       "<table border=\"1\" class=\"dataframe\">\n",
       "  <thead>\n",
       "    <tr style=\"text-align: right;\">\n",
       "      <th></th>\n",
       "      <th>Income</th>\n",
       "      <th>Rating</th>\n",
       "    </tr>\n",
       "  </thead>\n",
       "  <tbody>\n",
       "    <tr>\n",
       "      <th>Income</th>\n",
       "      <td>1242.158791</td>\n",
       "      <td>4315.492940</td>\n",
       "    </tr>\n",
       "    <tr>\n",
       "      <th>Rating</th>\n",
       "      <td>4315.492940</td>\n",
       "      <td>23939.560301</td>\n",
       "    </tr>\n",
       "  </tbody>\n",
       "</table>\n",
       "</div>"
      ],
      "text/plain": [
       "             Income        Rating\n",
       "Income  1242.158791   4315.492940\n",
       "Rating  4315.492940  23939.560301"
      ]
     },
     "execution_count": 99,
     "metadata": {},
     "output_type": "execute_result"
    }
   ],
   "source": [
    "# Nilai covariance\n",
    "cc[['Income', 'Rating']].cov()"
   ]
  },
  {
   "cell_type": "code",
   "execution_count": 98,
   "metadata": {},
   "outputs": [
    {
     "data": {
      "text/html": [
       "<div>\n",
       "<style scoped>\n",
       "    .dataframe tbody tr th:only-of-type {\n",
       "        vertical-align: middle;\n",
       "    }\n",
       "\n",
       "    .dataframe tbody tr th {\n",
       "        vertical-align: top;\n",
       "    }\n",
       "\n",
       "    .dataframe thead th {\n",
       "        text-align: right;\n",
       "    }\n",
       "</style>\n",
       "<table border=\"1\" class=\"dataframe\">\n",
       "  <thead>\n",
       "    <tr style=\"text-align: right;\">\n",
       "      <th></th>\n",
       "      <th>Income</th>\n",
       "      <th>Rating</th>\n",
       "    </tr>\n",
       "  </thead>\n",
       "  <tbody>\n",
       "    <tr>\n",
       "      <th>Income</th>\n",
       "      <td>1.000000</td>\n",
       "      <td>0.791378</td>\n",
       "    </tr>\n",
       "    <tr>\n",
       "      <th>Rating</th>\n",
       "      <td>0.791378</td>\n",
       "      <td>1.000000</td>\n",
       "    </tr>\n",
       "  </tbody>\n",
       "</table>\n",
       "</div>"
      ],
      "text/plain": [
       "          Income    Rating\n",
       "Income  1.000000  0.791378\n",
       "Rating  0.791378  1.000000"
      ]
     },
     "execution_count": 98,
     "metadata": {},
     "output_type": "execute_result"
    }
   ],
   "source": [
    "# Nilai korelasi\n",
    "cc[['Income', 'Rating']].corr()"
   ]
  },
  {
   "cell_type": "markdown",
   "metadata": {},
   "source": [
    "> 💡 **Insight:** __"
   ]
  },
  {
   "cell_type": "markdown",
   "metadata": {},
   "source": [
    "## Inferential Statistics\n",
    "\n",
    "Inferential Statistics membantu kita **menarik kesimpulan tentang keseluruhan data (populasi) dengan menggunakan sebagian informasinya saja (sampel)**\n",
    "\n",
    "![](assets/statistical_cycle.png)\n",
    "\n",
    "Setiap data memiliki distribusi. Distribusi data yang spresial dan berperan dalam inferential statistics adalah **distribusi normal**"
   ]
  },
  {
   "cell_type": "markdown",
   "metadata": {},
   "source": [
    "### Normal Distribution\n",
    "\n",
    "![](assets/normal-distribution.jpg)\n",
    "\n",
    "Karakteristik:\n",
    "\n",
    "- Kurva membentuk lonceng simetris, artinya puncaknya adalah titik pusat (mean = median)\n",
    "- Luas area dibawah kurva = 1 (menyatakan probabilitas)\n",
    "- Persebaran data:\n",
    "  + 68% data berada di rentang +- 1 standar deviasi dari mean\n",
    "  + 95% data berada di rentang +- 2 standar deviasi dari mean\n",
    "  + 99.7% data berada di rentang +- 3 standar deviasi dari mean\n",
    "- **Standar normal baku** adalah distribusi normal dimana mean = 0 dan standar deviasi = 1. \n",
    "\n",
    "Distribusi normal banyak digunakan pada inferensial statistik karena dicetuskannya **Central Limit Theorem**.\n",
    "\n",
    "> Semakin bertambahnya jumlah sampel yang diambil secara acak, maka **distribusi rata-rata sampel** akan mengikuti distribusi normal\n",
    "\n",
    "[Additional] [Animasi CLT](https://seeing-theory.brown.edu/probability-distributions/index.html)\n",
    "\n",
    "Karakteristik distribusi normal inilah yang dimanfaatkan untuk penghitungan inferensial statistik:\n",
    "\n",
    "- **Menghitung Probabilitas:**\n",
    "  + Probability Mass Function $\\rightarrow$ diskrit/kategorik (contoh: Menghitung probability kemunculan angka 1 ketika melempar dadu)\n",
    "  + Probability Density Function $\\rightarrow$ kontinu/numerik\n",
    "- **Membuat Confidence Interval**\n",
    "- **Uji Hipotesis**"
   ]
  },
  {
   "cell_type": "markdown",
   "metadata": {},
   "source": [
    "## Hypothesis Testing\n",
    "\n",
    "Uji hipotesis bertujuan untuk menguji **dugaan**. Uji hipotesis sering disebut juga sebagai **uji signifikansi** yang digunakan untuk menguji apakah suatu treatment memberikan perubahan/pengaruh signifikan terhadap suatu kondisi.\n",
    "\n",
    "### Hypothesis Testing in Causal Inference\n",
    "\n",
    "Uji hipotesis tidak bisa menghitung hubungan sebab-akibat pada suatu kasus. Namun, uji hipotesis bisa digunakan untuk menentukan signifikasi efek suatu treatment/perlakuan dan membandingkan distribusi dua kelompok data yang berbeda. Hasil dari uji hipotesis akan menjawab apakah perbedaan tersebut hanya suatu kebetulan atau memang benar-benar efek sebab akibat.\n",
    "\n",
    "Istilah-istilah:\n",
    "\n",
    "- Hipotesis: dugaan sementara yang harus diuji\n",
    "  + $H_0$ / null hypothesis: \n",
    "    * kondisi awal\n",
    "    * memiliki unsur kesamaan (=, >=, <=)\n",
    "  + $H_1$ / alternative hypothesis: \n",
    "    * kontradiktif dengan $H_0$\n",
    "    \n",
    "- $\\alpha$:\n",
    "  + tingkat signifikansi yaitu tingkat error yang masih bisa ditoleransi\n",
    "  + umumnya 0.05\n",
    "- $1-\\alpha$: tingkat kepercayaan\n",
    "\n",
    "- $p-value$:\n",
    "  + hasil perhitungan statistik yang menunjukkan peluang data sampel terjadi dengan kondisi H0.\n",
    "\n",
    "Pengambilan kesimpulan:\n",
    "\n",
    "- Jika $p-value$ < $\\alpha$, maka tolak $H_0$ -> terima h1\n",
    "- Jika $p-value$ > $\\alpha$, maka gagal tolak $H_0$ -> terima h0"
   ]
  },
  {
   "cell_type": "markdown",
   "metadata": {},
   "source": [
    "**Contoh Hipotesis**\n",
    "\n",
    "1. Hipotesis dua arah (!=)\n",
    "\n",
    "- $H_0$ : Rata-rata saldo rekening tidak berbeda secara signifikan antara nasabah yang menggunakan layanan internet banking dan yang tidak menggunakan layanan tersebut. (=)\n",
    "- $H_1$ : Rata-rata saldo rekening **berbeda secara signifikan** antara nasabah yang menggunakan layanan internet banking dan yang tidak menggunakan layanan tersebut. (!=)\n",
    "\n",
    "2. Hipotesis satu arah (<)\n",
    "\n",
    "- $H_0$ : Penambahan teller tidak memberikan perbedaan durasi pembayaran (>=)\n",
    "- $H_1$ : Penambahan teller **menurunkan** durasi pembayaran (<)\n",
    "\n",
    "3. Hipotesis satu arah (>)\n",
    "\n",
    "* $H_0$: Penerapan diskon tidak memberikan perbedaan jumlah pembelian produk (<=)\n",
    "* $H_1$: Penerapan diskon **meningkatkan** jumlah pembelian produk (>)"
   ]
  },
  {
   "cell_type": "markdown",
   "metadata": {},
   "source": [
    "### Z-Test\n",
    "\n",
    "Uji hipotesis yang menggunakan Z-test bila:\n",
    "\n",
    "- standar deviasi populasi diketahui\n",
    "- jumlah sampel banyak (n > 30)"
   ]
  },
  {
   "cell_type": "markdown",
   "metadata": {},
   "source": [
    "Menggunakan fungsi [`ztest()`](https://www.statsmodels.org/devel/generated/statsmodels.stats.weightstats.ztest.html)\n",
    "\n",
    "Gunakan fungsi `ztest()` untuk menghitung z-statistics dan p-value jika data disimpan dalam bentuk Dataframe.\n",
    "\n",
    "```python\n",
    "zstats, pval = ztest(x1=...,\n",
    "                     value = ...,\n",
    "                     alternative = ...)\n",
    "```\n",
    "parameter :\n",
    "- `x1` : number of observations\n",
    "- `value` : rata-rata dari x1 di $H_0$\n",
    "- `alternative` :\n",
    "   - jika $H_1$ tidak sama (!=) dengan nilai tertentu, isi dengan `two-sided`\n",
    "   - jika $H_{1}$ lebih besar (>) dari suatu nilai, gunakan `larger`\n",
    "   - jika $H_{1}$ lebih kecil (<) dari suatu nilai, gunakan `smaller`"
   ]
  },
  {
   "cell_type": "markdown",
   "metadata": {},
   "source": [
    "### T-test\n",
    "\n",
    "Uji hipotesis menggunakan T-test jika:\n",
    "\n",
    "* standar deviasi populasi tidak diketahui atau\n",
    "* jumlah sampel sedikit (n <= 30)\n",
    "\n",
    "Bentuk t-distribution mirip dengan normal distribution, hanya saja lebih landai ketika jumlah sampel sedikit:"
   ]
  },
  {
   "cell_type": "markdown",
   "metadata": {},
   "source": [
    "![](assets/t-distribution.jpg)"
   ]
  },
  {
   "cell_type": "markdown",
   "metadata": {},
   "source": [
    "**Contoh Kasus**\n",
    "\n",
    "Mari kita asumsikan Bank ABC memiliki dua kelompok nasabah bank, yaitu kelompok yang memiliki behavior scoring tinggi dan kelompok yang memiliki behavior scoring rendah. \n",
    "\n",
    "Diketahui data saldo rekening antara kedua kelompok sebagai berikut:"
   ]
  },
  {
   "cell_type": "code",
   "execution_count": 88,
   "metadata": {},
   "outputs": [],
   "source": [
    "behavior_score_high = pd.Series([30.4, 52.7, 70.6, 55.7, 56.3, 34.2, 59.6, 42.3, 21.1, 50.5, 12.2, 58.6, 12.0, 56.1, 49.4, 60.9, 60.0, 35.3, 15.0, 50.3])\n",
    "\n",
    "behavior_score_low = pd.Series([6.5, 13.3, 6.8, 9.2, 10.0, 1.5, 21.7, 16.2, 5.9, 25.0, 18.4, 12.6, 22.2, 22.0, 21.6, 20.5, 19.4, 14.5, 12.6, 12.0])\n"
   ]
  },
  {
   "cell_type": "markdown",
   "metadata": {},
   "source": [
    "Tujuan kita adalah menguji **apakah terdapat perbedaan signifikan dalam rata-rata saldo rekening antara kedua kelompok tersebut?**\n",
    "\n",
    "Jawab:\n",
    "\n",
    "**I. Tentukan hipotesis**\n",
    "\n",
    "- $H_0$: Rata-rata saldo rekening antara kelompok dengan behavior scoring tinggi dan kelompok dengan behavior scoring rendah tidak berbeda secara signifikan. \n",
    "- $H_1$: Terdapat perbedaan signifikan dalam rata-rata saldo rekening antara kedua kelompok."
   ]
  },
  {
   "cell_type": "markdown",
   "metadata": {},
   "source": [
    "**II. Hitung P-value dengan [`ttest_ind()`](https://docs.scipy.org/doc/scipy/reference/generated/scipy.stats.ttest_ind.html)**\n",
    "\n",
    "Gunakan fungsi `ttest_ind()` untuk menghitung t-statistics dan p-value dua independent sample\n",
    "\n",
    "```python\n",
    "t_stats, pval = ttest_ind(a= ...,\n",
    "                          b= ...,\n",
    "                          alternative = ...)\n",
    "```\n",
    "\n",
    "parameter:\n",
    "\n",
    "- `a` : data atau observasi sampel berbentuk Series atau array\n",
    "- `b` : data atau observasi sampel berbentuk Series atau array\n",
    "- `alternative` : tergantung hypothesis alternative ($H_1$)\n",
    "    - jika $H_1$ tidak sama  (!=) dengan nilai tertentu, isi dengan `two-sided`\n",
    "    - jika $H_1$ lebih kecil (<) dengan nilai tertentu, isi dengan `less`\n",
    "    - Jika $H_1$ lebih besar (>) dengan nilai tertentu, isi dengan `greater` "
   ]
  },
  {
   "cell_type": "code",
   "execution_count": 89,
   "metadata": {},
   "outputs": [],
   "source": [
    "# code here\n",
    "from scipy import stats\n",
    "\n",
    "t_test = stats.ttest_ind(a = behavior_score_high,\n",
    "                         b = behavior_score_low,\n",
    "                        alternative = 'two-sided') #dilihat dari H1 -> ada perbedaan signifikan"
   ]
  },
  {
   "cell_type": "code",
   "execution_count": 90,
   "metadata": {},
   "outputs": [
    {
     "name": "stdout",
     "output_type": "stream",
     "text": [
      "The result is= 0.0000000309\n"
     ]
    }
   ],
   "source": [
    "#formatting the result\n",
    "result=f'{t_test[1]:.10f}'\n",
    "print(\"The result is=\",result)"
   ]
  },
  {
   "cell_type": "markdown",
   "metadata": {},
   "source": [
    "**III. Bandingkan P-value dengan alpha**\n",
    "\n",
    "Dalam membuat keputusan uji statistik, kita dapat membandingan p-value dengan alpha:\n",
    "\n",
    "- selang kepercayaan = 95%\n",
    "- alpha = 5% -> 0.05\n",
    "\n",
    "p-value = 0.0000003715 (<) alpha/2 = 0.025, maka tolak $H_0$\n",
    "\n",
    "Note: aplha dibagi dua karena H1 two sided"
   ]
  },
  {
   "cell_type": "markdown",
   "metadata": {},
   "source": [
    "**IV. Kesimpulan**\n",
    "\n",
    "Dengan menggunakan tingkat kepercayaan 95% dapat disimpulkan terdapat perbedaan signifikan dalam rata-rata saldo rekening antara kedua kelompok."
   ]
  },
  {
   "cell_type": "markdown",
   "metadata": {},
   "source": [
    "**Summary penggunaan hipotesis testing:**\n",
    "\n",
    "![](assets/uji_hipotesis_mean.png)"
   ]
  },
  {
   "cell_type": "markdown",
   "metadata": {},
   "source": [
    "### ANOVA (F-Test)\n",
    "\n",
    "**ANOVA** (Analysis of Variance) adalah metode statistik yang digunakan untuk menganalisis perbedaan antara rata-rata kelompok dalam suatu dataset. **Tujuan utamanya adalah untuk mengetahui apakah terdapat perbedaan yang signifikan antara rata-rata kelompok-kelompok tersebut.**\n",
    "\n",
    "ANOVA digunakan untuk membandingkan rata-rata 2 atau lebih kelompok.\n",
    "\n",
    "**Hipotesis:**\n",
    "\n",
    "- $H_0$: Rata-rata semua kelompok sama.\n",
    "- $H_1$: Setidaknya ada satu rata-rata kelompok yang berbeda.\n",
    "\n",
    "> Jika p-value di bawah 0.05, maka tolak $H_0$."
   ]
  },
  {
   "cell_type": "markdown",
   "metadata": {},
   "source": [
    "Untuk menerapkan Anova (dalam kasus ini One-way Anova) dapat menggunakan tahapan berikut:\n",
    "\n",
    "1. Membuat model OLS\n",
    "\n",
    "```python\n",
    "model_ols = ols('Nilai_numerik ~ Kategori', data = df).fit()\n",
    "```\n",
    "\n",
    "2. Objek model OLS sebagai inputan fungsi `sm.stats.anova_lm()`\n",
    "\n",
    "```python\n",
    "anova_table = sm.stats.anova_lm(model_ols)\n",
    "```\n",
    "\n",
    "3. Melihat p-value (PR(>F)) kemudian menentukan tolak $H_0$ atau gagal tolak $H_0$."
   ]
  },
  {
   "cell_type": "markdown",
   "metadata": {},
   "source": [
    "**Contoh kasus:**\n",
    "\n",
    "Kita ingin melihat apakah terdapat perbedaan signifikan rata-rata saldo (`Balance`) antara kelompok Etnis dari nasabah."
   ]
  },
  {
   "cell_type": "code",
   "execution_count": 91,
   "metadata": {},
   "outputs": [],
   "source": [
    "import statsmodels.api as sm\n",
    "from statsmodels.formula.api import ols"
   ]
  },
  {
   "cell_type": "code",
   "execution_count": 92,
   "metadata": {},
   "outputs": [
    {
     "name": "stdout",
     "output_type": "stream",
     "text": [
      "              df        sum_sq        mean_sq         F    PR(>F)\n",
      "Ethnicity    2.0  1.845420e+04    9227.100236  0.043443  0.957492\n",
      "Residual   397.0  8.432146e+07  212396.618916       NaN       NaN\n"
     ]
    }
   ],
   "source": [
    "mod = ols('Balance ~ Ethnicity',data=cc).fit()\n",
    "\n",
    "anova_table = sm.stats.anova_lm(mod)\n",
    "\n",
    "print(anova_table)"
   ]
  },
  {
   "cell_type": "markdown",
   "metadata": {},
   "source": [
    "Terlihat pada kolom `PR(>F)` baris `Ethnicity`, nilai p-value di atas 0.05. Sehingga, gagal tolak $H_0$ dan dapat diambil kesimpulan bahwa tidak terdapat perbedaan signifikan rata-rata saldo diantara kelompok etnis nasabah."
   ]
  },
  {
   "cell_type": "markdown",
   "metadata": {},
   "source": [
    "# Further Readings\n",
    "\n",
    "- Descriptive Statistics: https://courses.lumenlearning.com/suny-natural-resources-biometrics/chapter/chapter-1-descriptive-statistics-and-the-normal-distribution/\n",
    "\n",
    "- Dealing with small data set: https://measuringu.com/small-n/\n",
    "\n",
    "- t-Distribution and some case examples: https://stattrek.com/probability-distributions/t-distribution.aspx"
   ]
  }
 ],
 "metadata": {
  "kernelspec": {
   "display_name": "dev_causality",
   "language": "python",
   "name": "python3"
  },
  "language_info": {
   "codemirror_mode": {
    "name": "ipython",
    "version": 3
   },
   "file_extension": ".py",
   "mimetype": "text/x-python",
   "name": "python",
   "nbconvert_exporter": "python",
   "pygments_lexer": "ipython3",
   "version": "3.8.20"
  }
 },
 "nbformat": 4,
 "nbformat_minor": 2
}
